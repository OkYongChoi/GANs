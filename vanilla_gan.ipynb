{
 "cells": [
  {
   "cell_type": "code",
   "execution_count": 1,
   "metadata": {},
   "outputs": [],
   "source": [
    "import os\n",
    "import numpy as np\n",
    "\n",
    "import torch\n",
    "import torch.nn as nn\n",
    "\n",
    "import torchvision.transforms as transforms\n",
    "from torchvision.utils import save_image\n",
    "\n",
    "from torch.utils.data import DataLoader\n",
    "from torchvision import datasets\n",
    "\n",
    "device = torch.device(\"cuda\" if torch.cuda.is_available() else \"cpu\")"
   ]
  },
  {
   "cell_type": "code",
   "execution_count": 2,
   "metadata": {},
   "outputs": [],
   "source": [
    "img_size = 28 # size of each image dimension\n",
    "channels = 1  # number of image channels\n",
    "img_shape = (channels, img_size, img_size)\n",
    "input_dim  = 784  # 28*28 for MNIST\n",
    "hidden_dim = 128\n",
    "lr = 0.0002 \n",
    "n_cpu = os.cpu_count()//2 # number of cpu threads to use during batch generation\n",
    "batch_size = 64 \n",
    "n_epochs = 10 \n",
    "noise_dim = 100 # dimensionality of the input noise"
   ]
  },
  {
   "cell_type": "code",
   "execution_count": 3,
   "metadata": {},
   "outputs": [],
   "source": [
    "data_path = '../data'\n",
    "os.makedirs(data_path, exist_ok=True)"
   ]
  },
  {
   "cell_type": "code",
   "execution_count": 4,
   "metadata": {},
   "outputs": [],
   "source": [
    "# Configure data loader\n",
    "transform = transforms.Compose([transforms.Resize(img_size), transforms.ToTensor(), transforms.Normalize([0.5], [0.5])])\n",
    "\n",
    "loader_kwargs = {'num_workers': os.cpu_count()//2, 'pin_memory': True} \n",
    "\n",
    "train_data = datasets.MNIST(root=data_path, train=True, download=True, transform=transform)\n",
    "test_data = datasets.MNIST(root=data_path, train=False, download=True, transform=transform)\n",
    "\n",
    "train_loader = DataLoader(train_data, batch_size=batch_size, shuffle=False, **loader_kwargs)\n",
    "test_loader = DataLoader(test_data, batch_size=batch_size, shuffle=False, **loader_kwargs)"
   ]
  },
  {
   "cell_type": "code",
   "execution_count": 5,
   "metadata": {},
   "outputs": [],
   "source": [
    "class Generator(nn.Module):\n",
    "    def __init__(self, hidden_dim=hidden_dim):\n",
    "        super(Generator, self).__init__()\n",
    "\n",
    "        self.model = nn.Sequential(\n",
    "            nn.Linear(noise_dim, hidden_dim),\n",
    "            nn.LeakyReLU(True),\n",
    "            nn.Linear(hidden_dim, hidden_dim),\n",
    "            nn.LeakyReLU(True),\n",
    "            nn.Linear(hidden_dim, hidden_dim),\n",
    "            nn.LeakyReLU(True),\n",
    "            nn.Linear(hidden_dim, input_dim, img_shape),\n",
    "        )\n",
    "\n",
    "    def forward(self, z):\n",
    "        img = self.model(z)\n",
    "        img = img.view(img.size(0), *img_shape)\n",
    "        return img"
   ]
  },
  {
   "cell_type": "code",
   "execution_count": 6,
   "metadata": {},
   "outputs": [],
   "source": [
    "class Discriminator(nn.Module):\n",
    "    def __init__(self, hidden_dim=hidden_dim):\n",
    "        super(Discriminator, self).__init__()\n",
    "\n",
    "        self.model = nn.Sequential(\n",
    "            nn.Linear(input_dim, hidden_dim),\n",
    "            nn.LeakyReLU(True),\n",
    "            nn.Linear(hidden_dim, hidden_dim),\n",
    "            nn.LeakyReLU(True),\n",
    "            nn.Linear(hidden_dim, 1),\n",
    "            nn.Sigmoid(),\n",
    "        )\n",
    "\n",
    "    def forward(self, img):\n",
    "        img_flat = img.view(img.size(0), -1)\n",
    "        validity = self.model(img_flat)\n",
    "        return validity"
   ]
  },
  {
   "cell_type": "code",
   "execution_count": 7,
   "metadata": {},
   "outputs": [
    {
     "data": {
      "text/plain": [
       "Discriminator(\n",
       "  (model): Sequential(\n",
       "    (0): Linear(in_features=784, out_features=128, bias=True)\n",
       "    (1): LeakyReLU(negative_slope=True)\n",
       "    (2): Linear(in_features=128, out_features=128, bias=True)\n",
       "    (3): LeakyReLU(negative_slope=True)\n",
       "    (4): Linear(in_features=128, out_features=1, bias=True)\n",
       "    (5): Sigmoid()\n",
       "  )\n",
       ")"
      ]
     },
     "execution_count": 7,
     "metadata": {},
     "output_type": "execute_result"
    }
   ],
   "source": [
    "criterion = torch.nn.BCELoss()\n",
    "\n",
    "generator = Generator()\n",
    "discriminator = Discriminator()\n",
    "\n",
    "optimizer_G = torch.optim.AdamW(generator.parameters(), lr=lr)\n",
    "optimizer_D = torch.optim.AdamW(discriminator.parameters(), lr=lr)\n",
    "\n",
    "generator.to(device)\n",
    "discriminator.to(device)"
   ]
  },
  {
   "cell_type": "markdown",
   "metadata": {},
   "source": [
    "# Training"
   ]
  },
  {
   "cell_type": "code",
   "execution_count": 8,
   "metadata": {},
   "outputs": [],
   "source": [
    "saved_dir = 'gan_images'\n",
    "os.makedirs(saved_dir, exist_ok = True)"
   ]
  },
  {
   "cell_type": "code",
   "execution_count": 9,
   "metadata": {},
   "outputs": [
    {
     "name": "stdout",
     "output_type": "stream",
     "text": [
      "epoch: 0/10, D loss: 43.8907, G loss: 0.2839\n",
      "epoch: 1/10, D loss: 50.0000, G loss: 0.0000\n",
      "epoch: 2/10, D loss: 50.0000, G loss: 0.0000\n",
      "epoch: 3/10, D loss: 50.0000, G loss: 0.0000\n",
      "epoch: 4/10, D loss: 50.0000, G loss: 0.0000\n",
      "epoch: 5/10, D loss: 48.4375, G loss: 1.0840\n",
      "epoch: 6/10, D loss: 50.0000, G loss: 0.0000\n",
      "epoch: 7/10, D loss: 50.0000, G loss: 0.0000\n",
      "epoch: 8/10, D loss: 50.0000, G loss: 0.0000\n",
      "epoch: 9/10, D loss: 50.0000, G loss: 0.0000\n"
     ]
    }
   ],
   "source": [
    "loss_estimate = []\n",
    "batches_done = 0\n",
    "for epoch in range(n_epochs):\n",
    "    for i, (imgs, _) in enumerate(train_loader):\n",
    "\n",
    "        # ground truths\n",
    "        real = torch.ones(imgs.size(0), 1, requires_grad=False, device=device)\n",
    "        fake = torch.zeros(imgs.size(0), 1, requires_grad=False, device=device)\n",
    "\n",
    "        real_imgs = imgs.to(device)\n",
    "\n",
    "        # ===== Generator =====\n",
    "        optimizer_G.zero_grad()\n",
    "\n",
    "        z = torch.normal(0, 1, (imgs.shape[0], noise_dim), device=device)\n",
    "\n",
    "\n",
    "        gen_imgs = generator(z)\n",
    "\n",
    "        loss_G = criterion(discriminator(gen_imgs), real)\n",
    "\n",
    "        loss_G.backward()\n",
    "        optimizer_G.step()\n",
    "\n",
    "        # ===== Discriminator =====\n",
    "        optimizer_D.zero_grad()\n",
    "\n",
    "        real_loss = criterion(discriminator(real_imgs), real)\n",
    "        fake_loss = criterion(discriminator(gen_imgs.detach()), fake)\n",
    "        loss_D = (real_loss + fake_loss) / 2\n",
    "\n",
    "        loss_D.backward()\n",
    "        optimizer_D.step()\n",
    "\n",
    "    # ===== save images and print logs =====\n",
    "    save_image(gen_imgs.data[:25], f\"{saved_dir}/{epoch+1}.png\", nrow=5, normalize=True)\n",
    "    print(f\"epoch: {epoch}/{n_epochs}, D loss: {loss_D.item():.4f}, G loss: {loss_G.item():.4f}\")"
   ]
  }
 ],
 "metadata": {
  "interpreter": {
   "hash": "d4d1e4263499bec80672ea0156c357c1ee493ec2b1c70f0acce89fc37c4a6abe"
  },
  "kernelspec": {
   "display_name": "Python 3.7.11 64-bit ('base': conda)",
   "language": "python",
   "name": "python3"
  },
  "language_info": {
   "codemirror_mode": {
    "name": "ipython",
    "version": 3
   },
   "file_extension": ".py",
   "mimetype": "text/x-python",
   "name": "python",
   "nbconvert_exporter": "python",
   "pygments_lexer": "ipython3",
   "version": "3.7.11"
  },
  "orig_nbformat": 4
 },
 "nbformat": 4,
 "nbformat_minor": 2
}
